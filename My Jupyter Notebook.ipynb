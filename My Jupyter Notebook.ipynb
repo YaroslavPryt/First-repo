{
    "cells": [
        {
            "cell_type": "markdown",
            "metadata": {
                "collapsed": true
            },
            "source": "# My Jupyter Notebook on IBM Watson Studio"
        },
        {
            "cell_type": "markdown",
            "metadata": {},
            "source": "<b>Yaroslav Prytyskach</b><br>\nData Scientist"
        },
        {
            "cell_type": "markdown",
            "metadata": {},
            "source": "<i>I am interested in data science because I am working with a lot of data sets. I want to improve my skills in data mining, processing, visualization and extracting insights from big sets of data. Data is an oil of 21 century so we have to know how to work with it effectively.</i>"
        },
        {
            "cell_type": "markdown",
            "metadata": {},
            "source": "### In the next cell we sum two numbers 3 and 5"
        },
        {
            "cell_type": "code",
            "execution_count": 7,
            "metadata": {},
            "outputs": [
                {
                    "data": {
                        "text/plain": "8"
                    },
                    "execution_count": 7,
                    "metadata": {},
                    "output_type": "execute_result"
                }
            ],
            "source": "3+5"
        },
        {
            "cell_type": "markdown",
            "metadata": {},
            "source": "#### Examples of formating the output text\n\n<hr>\n\n<br>\n<ol>\n<li>Cat</li>\n<li>Dog</li>\n<li>Snail</li>\n</ol>\n\n<br>\n<ul>\n<li>Exercise 1</li>\n<li>Exercise 2</li>\n<li>.....</li>\n<li>Exercise N</li>\n</ul>\n\n<br>\n<a><https://www.coursera.org\">Link to Courcera</a>\n\n"
        }
    ],
    "metadata": {
        "kernelspec": {
            "display_name": "Python 3.10",
            "language": "python",
            "name": "python3"
        },
        "language_info": {
            "codemirror_mode": {
                "name": "ipython",
                "version": 3
            },
            "file_extension": ".py",
            "mimetype": "text/x-python",
            "name": "python",
            "nbconvert_exporter": "python",
            "pygments_lexer": "ipython3",
            "version": "3.10.6"
        }
    },
    "nbformat": 4,
    "nbformat_minor": 1
}